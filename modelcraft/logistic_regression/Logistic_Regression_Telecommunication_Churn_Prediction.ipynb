{
 "cells": [
  {
   "cell_type": "markdown",
   "metadata": {},
   "source": [
    "# Logistic Regression with Python\n",
    "\n",
    "## Objectives\n",
    "\n",
    "After completing this lab you will be able to:\n",
    "\n",
    "* Use Logistic Regression for classification\n",
    "* Preprocess data for modeling\n",
    "* Implement Logistic regression on real world data\n"
   ]
  },
  {
   "cell_type": "markdown",
   "metadata": {},
   "source": [
    "## Install and import the required libraries\n",
    "Make sure the required libraries are available by executing the cell below.\n"
   ]
  },
  {
   "cell_type": "code",
   "execution_count": 21,
   "metadata": {},
   "outputs": [],
   "source": [
    "# !pip install numpy==2.2.0\n",
    "# !pip install pandas==2.2.3\n",
    "# !pip install scikit-learn==1.6.0\n",
    "# !pip install matplotlib==3.9.3"
   ]
  },
  {
   "cell_type": "markdown",
   "metadata": {},
   "source": [
    "Let's first import required libraries:\n"
   ]
  },
  {
   "cell_type": "code",
   "execution_count": 22,
   "metadata": {},
   "outputs": [],
   "source": [
    "import pandas as pd\n",
    "import numpy as np\n",
    "\n",
    "from sklearn.model_selection import train_test_split\n",
    "from sklearn.linear_model import LogisticRegression\n",
    "from sklearn.linear_model import LinearRegression\n",
    "from sklearn.preprocessing import StandardScaler\n",
    "\n",
    "from sklearn.metrics import log_loss\n",
    "import matplotlib.pyplot as plt\n",
    "\n",
    "%matplotlib inline \n",
    "\n",
    "import warnings\n",
    "warnings.filterwarnings('ignore')"
   ]
  },
  {
   "cell_type": "markdown",
   "metadata": {},
   "source": [
    "## Classification with Logistic Regression\n",
    "\n",
    "### Scenario\n",
    "Assume that you are working for a telecommunications company which is concerned about the number of customers leaving their land-line business for cable competitors. They need to understand who is more likely to leave the company.\n"
   ]
  },
  {
   "cell_type": "markdown",
   "metadata": {},
   "source": [
    "###  Load the Telco Churn data \n",
    "Telco Churn is a hypothetical data file that concerns a telecommunications company's efforts to reduce turnover in its customer base. Each case corresponds to a separate customer and it records various demographic and service usage information. Before you can work with the data, you must use the URL to get the ChurnData.csv.\n"
   ]
  },
  {
   "cell_type": "markdown",
   "metadata": {},
   "source": [
    "### About the dataset\n",
    "We will use a telecommunications dataset for predicting customer churn. This is a historical customer dataset where each row represents one customer. The data is relatively easy to understand, and you may uncover insights you can use immediately. Typically it is less expensive to keep customers than acquire new ones, so the focus of this analysis is to predict the customers who will stay with the company. \n",
    "<br><br>\n",
    "This data set provides you information about customer preferences, services opted, personal details, etc. which helps you predict customer churn.\n",
    "\n",
    "\n",
    "### Coefficient Remark\n",
    "Large positive value of LR Coefficient for a given field indicates that increase in this parameter will lead to better chance of a positive, i.e. 1 class. A large negative value indicates the opposite, which means that an increase in this parameter will lead to poorer chance of a positive class. A lower absolute value indicates weaker affect of the change in that field on the predicted class. Let us examine this with the following exercises.  \n"
   ]
  },
  {
   "cell_type": "markdown",
   "metadata": {},
   "source": [
    "### Load Data from CSV\n"
   ]
  },
  {
   "cell_type": "code",
   "execution_count": 27,
   "metadata": {},
   "outputs": [],
   "source": [
    "churn_df = pd.read_csv('ChurnData.csv')"
   ]
  },
  {
   "cell_type": "code",
   "execution_count": 28,
   "metadata": {},
   "outputs": [
    {
     "name": "stdout",
     "output_type": "stream",
     "text": [
      "<class 'pandas.core.frame.DataFrame'>\n",
      "RangeIndex: 200 entries, 0 to 199\n",
      "Data columns (total 29 columns):\n",
      " #   Column      Non-Null Count  Dtype  \n",
      "---  ------      --------------  -----  \n",
      " 0   Unnamed: 0  200 non-null    int64  \n",
      " 1   tenure      200 non-null    float64\n",
      " 2   age         200 non-null    float64\n",
      " 3   address     200 non-null    float64\n",
      " 4   income      200 non-null    float64\n",
      " 5   ed          200 non-null    float64\n",
      " 6   employ      200 non-null    float64\n",
      " 7   equip       200 non-null    float64\n",
      " 8   callcard    200 non-null    float64\n",
      " 9   wireless    200 non-null    float64\n",
      " 10  longmon     200 non-null    float64\n",
      " 11  tollmon     200 non-null    float64\n",
      " 12  equipmon    200 non-null    float64\n",
      " 13  cardmon     200 non-null    float64\n",
      " 14  wiremon     200 non-null    float64\n",
      " 15  longten     200 non-null    float64\n",
      " 16  tollten     200 non-null    float64\n",
      " 17  cardten     200 non-null    float64\n",
      " 18  voice       200 non-null    float64\n",
      " 19  pager       200 non-null    float64\n",
      " 20  internet    200 non-null    float64\n",
      " 21  callwait    200 non-null    float64\n",
      " 22  confer      200 non-null    float64\n",
      " 23  ebill       200 non-null    float64\n",
      " 24  loglong     200 non-null    float64\n",
      " 25  logtoll     200 non-null    float64\n",
      " 26  lninc       200 non-null    float64\n",
      " 27  custcat     200 non-null    float64\n",
      " 28  churn       200 non-null    float64\n",
      "dtypes: float64(28), int64(1)\n",
      "memory usage: 45.4 KB\n"
     ]
    }
   ],
   "source": [
    "churn_df.info()"
   ]
  },
  {
   "cell_type": "markdown",
   "metadata": {},
   "source": [
    "There are 28 Columns, All are Float64. There is no Null value for all the columns.  Churn is to predict and hence need to be integer data type. For Practice Lets select half of the features"
   ]
  },
  {
   "cell_type": "markdown",
   "metadata": {},
   "source": [
    "Let's select some features for the modeling. Also, we change the target data type to be an integer, as it is a requirement by the scikit-learn algorithm:\n"
   ]
  },
  {
   "cell_type": "markdown",
   "metadata": {},
   "source": [
    "## Data Preprocessing\n"
   ]
  },
  {
   "cell_type": "markdown",
   "metadata": {},
   "source": [
    "we can use a subset of the fields available to develop out model. Let us assume that the fields we use are 'tenure', 'age', 'address', 'income', 'ed', 'employ', 'equip' and of course 'churn'."
   ]
  },
  {
   "cell_type": "code",
   "execution_count": 29,
   "metadata": {},
   "outputs": [
    {
     "data": {
      "text/html": [
       "<div>\n",
       "<style scoped>\n",
       "    .dataframe tbody tr th:only-of-type {\n",
       "        vertical-align: middle;\n",
       "    }\n",
       "\n",
       "    .dataframe tbody tr th {\n",
       "        vertical-align: top;\n",
       "    }\n",
       "\n",
       "    .dataframe thead th {\n",
       "        text-align: right;\n",
       "    }\n",
       "</style>\n",
       "<table border=\"1\" class=\"dataframe\">\n",
       "  <thead>\n",
       "    <tr style=\"text-align: right;\">\n",
       "      <th></th>\n",
       "      <th>tenure</th>\n",
       "      <th>age</th>\n",
       "      <th>address</th>\n",
       "      <th>income</th>\n",
       "      <th>ed</th>\n",
       "      <th>employ</th>\n",
       "      <th>equip</th>\n",
       "      <th>churn</th>\n",
       "    </tr>\n",
       "  </thead>\n",
       "  <tbody>\n",
       "    <tr>\n",
       "      <th>0</th>\n",
       "      <td>11.0</td>\n",
       "      <td>33.0</td>\n",
       "      <td>7.0</td>\n",
       "      <td>136.0</td>\n",
       "      <td>5.0</td>\n",
       "      <td>5.0</td>\n",
       "      <td>0.0</td>\n",
       "      <td>1</td>\n",
       "    </tr>\n",
       "    <tr>\n",
       "      <th>1</th>\n",
       "      <td>33.0</td>\n",
       "      <td>33.0</td>\n",
       "      <td>12.0</td>\n",
       "      <td>33.0</td>\n",
       "      <td>2.0</td>\n",
       "      <td>0.0</td>\n",
       "      <td>0.0</td>\n",
       "      <td>1</td>\n",
       "    </tr>\n",
       "    <tr>\n",
       "      <th>2</th>\n",
       "      <td>23.0</td>\n",
       "      <td>30.0</td>\n",
       "      <td>9.0</td>\n",
       "      <td>30.0</td>\n",
       "      <td>1.0</td>\n",
       "      <td>2.0</td>\n",
       "      <td>0.0</td>\n",
       "      <td>0</td>\n",
       "    </tr>\n",
       "    <tr>\n",
       "      <th>3</th>\n",
       "      <td>38.0</td>\n",
       "      <td>35.0</td>\n",
       "      <td>5.0</td>\n",
       "      <td>76.0</td>\n",
       "      <td>2.0</td>\n",
       "      <td>10.0</td>\n",
       "      <td>1.0</td>\n",
       "      <td>0</td>\n",
       "    </tr>\n",
       "    <tr>\n",
       "      <th>4</th>\n",
       "      <td>7.0</td>\n",
       "      <td>35.0</td>\n",
       "      <td>14.0</td>\n",
       "      <td>80.0</td>\n",
       "      <td>2.0</td>\n",
       "      <td>15.0</td>\n",
       "      <td>0.0</td>\n",
       "      <td>0</td>\n",
       "    </tr>\n",
       "    <tr>\n",
       "      <th>...</th>\n",
       "      <td>...</td>\n",
       "      <td>...</td>\n",
       "      <td>...</td>\n",
       "      <td>...</td>\n",
       "      <td>...</td>\n",
       "      <td>...</td>\n",
       "      <td>...</td>\n",
       "      <td>...</td>\n",
       "    </tr>\n",
       "    <tr>\n",
       "      <th>195</th>\n",
       "      <td>55.0</td>\n",
       "      <td>44.0</td>\n",
       "      <td>24.0</td>\n",
       "      <td>83.0</td>\n",
       "      <td>1.0</td>\n",
       "      <td>23.0</td>\n",
       "      <td>0.0</td>\n",
       "      <td>0</td>\n",
       "    </tr>\n",
       "    <tr>\n",
       "      <th>196</th>\n",
       "      <td>34.0</td>\n",
       "      <td>23.0</td>\n",
       "      <td>3.0</td>\n",
       "      <td>24.0</td>\n",
       "      <td>1.0</td>\n",
       "      <td>7.0</td>\n",
       "      <td>0.0</td>\n",
       "      <td>0</td>\n",
       "    </tr>\n",
       "    <tr>\n",
       "      <th>197</th>\n",
       "      <td>6.0</td>\n",
       "      <td>32.0</td>\n",
       "      <td>10.0</td>\n",
       "      <td>47.0</td>\n",
       "      <td>1.0</td>\n",
       "      <td>10.0</td>\n",
       "      <td>0.0</td>\n",
       "      <td>0</td>\n",
       "    </tr>\n",
       "    <tr>\n",
       "      <th>198</th>\n",
       "      <td>24.0</td>\n",
       "      <td>30.0</td>\n",
       "      <td>0.0</td>\n",
       "      <td>25.0</td>\n",
       "      <td>4.0</td>\n",
       "      <td>5.0</td>\n",
       "      <td>0.0</td>\n",
       "      <td>1</td>\n",
       "    </tr>\n",
       "    <tr>\n",
       "      <th>199</th>\n",
       "      <td>61.0</td>\n",
       "      <td>50.0</td>\n",
       "      <td>16.0</td>\n",
       "      <td>190.0</td>\n",
       "      <td>2.0</td>\n",
       "      <td>22.0</td>\n",
       "      <td>1.0</td>\n",
       "      <td>0</td>\n",
       "    </tr>\n",
       "  </tbody>\n",
       "</table>\n",
       "<p>200 rows × 8 columns</p>\n",
       "</div>"
      ],
      "text/plain": [
       "     tenure   age  address  income   ed  employ  equip  churn\n",
       "0      11.0  33.0      7.0   136.0  5.0     5.0    0.0      1\n",
       "1      33.0  33.0     12.0    33.0  2.0     0.0    0.0      1\n",
       "2      23.0  30.0      9.0    30.0  1.0     2.0    0.0      0\n",
       "3      38.0  35.0      5.0    76.0  2.0    10.0    1.0      0\n",
       "4       7.0  35.0     14.0    80.0  2.0    15.0    0.0      0\n",
       "..      ...   ...      ...     ...  ...     ...    ...    ...\n",
       "195    55.0  44.0     24.0    83.0  1.0    23.0    0.0      0\n",
       "196    34.0  23.0      3.0    24.0  1.0     7.0    0.0      0\n",
       "197     6.0  32.0     10.0    47.0  1.0    10.0    0.0      0\n",
       "198    24.0  30.0      0.0    25.0  4.0     5.0    0.0      1\n",
       "199    61.0  50.0     16.0   190.0  2.0    22.0    1.0      0\n",
       "\n",
       "[200 rows x 8 columns]"
      ]
     },
     "execution_count": 29,
     "metadata": {},
     "output_type": "execute_result"
    }
   ],
   "source": [
    "churn_df = churn_df[['tenure', 'age', 'address', 'income', 'ed', 'employ', 'equip', 'churn']]\n",
    "churn_df['churn'] = churn_df['churn'].astype('int')\n",
    "churn_df"
   ]
  },
  {
   "cell_type": "code",
   "execution_count": 30,
   "metadata": {},
   "outputs": [
    {
     "name": "stdout",
     "output_type": "stream",
     "text": [
      "<class 'pandas.core.frame.DataFrame'>\n",
      "RangeIndex: 200 entries, 0 to 199\n",
      "Data columns (total 8 columns):\n",
      " #   Column   Non-Null Count  Dtype  \n",
      "---  ------   --------------  -----  \n",
      " 0   tenure   200 non-null    float64\n",
      " 1   age      200 non-null    float64\n",
      " 2   address  200 non-null    float64\n",
      " 3   income   200 non-null    float64\n",
      " 4   ed       200 non-null    float64\n",
      " 5   employ   200 non-null    float64\n",
      " 6   equip    200 non-null    float64\n",
      " 7   churn    200 non-null    int64  \n",
      "dtypes: float64(7), int64(1)\n",
      "memory usage: 12.6 KB\n"
     ]
    }
   ],
   "source": [
    "# CHECKING DATA TYPE OF Subset of Attributes. \n",
    "churn_df.info()"
   ]
  },
  {
   "cell_type": "markdown",
   "metadata": {},
   "source": [
    "For modeling the input fields X and the target field y need to be fixed. Since that the target to be predicted is 'churn', the data under this field will be stored under the variable 'y'. We may use any combination or all of the remaining fields as the input. Store these values in the variable 'X'.\n"
   ]
  },
  {
   "cell_type": "markdown",
   "metadata": {},
   "source": [
    "## Practice Exercises\n",
    "Try to attempt the following questions yourself based on what you learnt in this lab.\n",
    "\n",
    "<br>\n",
    "\n",
    "a. Let us assume we add the feature 'callcard' to the original set of input features. What will the value of log loss be in this case?\n",
    "<br>\n",
    "<details><summary>Hint</summary>\n",
    "Reuse all the code statements above after modifying the value of churn_df. Make sure to edit the list of features feeding the variable X. The expected answer is 0.6039104035600186.\n",
    "</details>\n",
    "\n",
    "b. Let us assume we add the feature 'wireless' to the original set of input features. What will the value of log loss be in this case?\n",
    "<br>\n",
    "<details><summary>Hint</summary>\n",
    "Reuse all the code statements above after modifying the value of churn_df. Make sure to edit the list of features feeding the variable X. The expected answer is 0.7227054293985518.\n",
    "</details>\n",
    "\n",
    "c. What happens to the log loss value if we add both \"callcard\" and \"wireless\" to the input features?\n",
    "<br>\n",
    "<details><summary>Hint</summary>\n",
    "Reuse all the code statements above after modifying the value of churn_df. Make sure to edit the list of features feeding the variable X. The expected answer is 0.7760557225417114\n",
    "</details>\n",
    "\n",
    "d. What happens to the log loss if we remove the feature 'equip' from the original set of input features?\n",
    "<br>\n",
    "<details><summary>Hint</summary>\n",
    "Reuse all the code statements above after modifying the value of churn_df Make sure to edit the list of features feeding the variable X. The expected answer is 0.5302427350245369\n",
    "</details>\n",
    "\n",
    "e. What happens to the log loss if we remove the features 'income' and 'employ' from the original set of input features?\n",
    "<br>\n",
    "<details><summary>Hint</summary>\n",
    "Reuse all the code statements above after modifying the value of churn_df. Make sure to edit the list of features feeding the variable X. The expected answer is 0.6529317169884828.\n",
    "</details>\n"
   ]
  },
  {
   "cell_type": "markdown",
   "metadata": {},
   "source": [
    "### Practice Exercises"
   ]
  },
  {
   "cell_type": "code",
   "execution_count": 31,
   "metadata": {},
   "outputs": [],
   "source": [
    "def get_log_loss_with_params(param_list):\n",
    "    url = \"https://cf-courses-data.s3.us.cloud-object-storage.appdomain.cloud/IBMDeveloperSkillsNetwork-ML0101EN-SkillsNetwork/labs/Module%203/data/ChurnData.csv\"\n",
    "    churn_df_orginal = pd.read_csv(url)\n",
    "\n",
    "    # Subset Requried for the Logistic Regression\n",
    "    churn_df_a = churn_df_orginal[param_list]\n",
    "    churn_df_a['churn'] = churn_df['churn'].astype('int')\n",
    "    churn_df_a\n",
    "    \n",
    "    # Step 1 | Convert to Numpy array\n",
    "    X_np_a = churn_df_a.iloc[:, :-1].to_numpy() # getting all columns except the churn column, which is the last column and convert into numpy array\n",
    "    y_np_a = churn_df_a[['churn']].to_numpy() # get only churn column and convert into numpy array\n",
    "    \n",
    "    # print(X_np_a[0:5])\n",
    "    # print(y_np_a[0:5])\n",
    "    \n",
    "    # Step 2 | Normalize the Independent variable. ( Standard Scaler )\n",
    "    X_norm_np_a = StandardScaler().fit_transform(X_np_a)\n",
    "    # print(X_norm_np_a[0:5])\n",
    "    \n",
    "    \n",
    "    # Step 3 | Train and Test Split the Normalized Data\n",
    "    X_train, X_test, y_train, y_test  = train_test_split(X_norm_np_a, y_np_a, test_size=0.20, random_state=4)\n",
    "    \n",
    "    # Step 4 | Train and Fit the Model\n",
    "    LR_a = LogisticRegression()\n",
    "    LR_a.fit(X_train, y_train)\n",
    "    \n",
    "    # Step 5 | get the Predicted Array\n",
    "    y_hat = LR_a.predict(X_test)\n",
    "    \n",
    "    # Step 6 | Show me the probability of each class for given input feature.\n",
    "    y_hat_prob = LR_a.predict_proba(X_test)\n",
    "    # print(\"Y_hat probability : \", y_hat_prob[0:10])\n",
    "    \n",
    "    # Step 7 | Use the Cofficient to see the impact.\n",
    "    LR_a_coefficient = LR_a.coef_[0]\n",
    "    # print(\"LR Cofficient : \", LR_a_coefficient[0:10])\n",
    "    pd.Series(LR_a_coefficient,index=churn_df_a.columns[0:-1]).plot(kind='barh',figsize=(5,2))\n",
    "    plt.title(\"Feature Coefficients in Logistic Regression Churn Model\")\n",
    "    plt.xlabel(\"Coefficient Value\")\n",
    "    plt.show()\n",
    "    \n",
    "    # Step 8 | get Log_loss_function\n",
    "    log_loss_a = log_loss(y_test, y_hat_prob)\n",
    "    print('Log Loss Probability : ', log_loss_a)\n",
    "    "
   ]
  },
  {
   "cell_type": "markdown",
   "metadata": {},
   "source": [
    "### Problem a. Let us assume we add the feature 'callcard' to the original set of input features. What will the value of log loss be in this case?"
   ]
  },
  {
   "cell_type": "code",
   "execution_count": 39,
   "metadata": {},
   "outputs": [
    {
     "data": {
      "image/png": "[encoded data removed]",
      "text/plain": [
       "<Figure size 360x144 with 1 Axes>"
      ]
     },
     "metadata": {
      "needs_background": "light"
     },
     "output_type": "display_data"
    },
    {
     "name": "stdout",
     "output_type": "stream",
     "text": [
      "Log Loss Probability :  0.6039104035600186\n"
     ]
    }
   ],
   "source": [
    "param_list_1 = ['tenure', 'age', 'address', 'income', 'ed', 'employ', 'equip', 'callcard' , 'churn']\n",
    "get_log_loss_with_params(param_list_1)"
   ]
  },
  {
   "cell_type": "markdown",
   "metadata": {},
   "source": [
    "### Problem b. Let us assume we add the feature 'wireless' to the original set of input features. What will the value of log loss be in this case?"
   ]
  },
  {
   "cell_type": "code",
   "execution_count": 40,
   "metadata": {},
   "outputs": [
    {
     "data": {
      "image/png": "[encoded data removed]",
      "text/plain": [
       "<Figure size 360x144 with 1 Axes>"
      ]
     },
     "metadata": {
      "needs_background": "light"
     },
     "output_type": "display_data"
    },
    {
     "name": "stdout",
     "output_type": "stream",
     "text": [
      "Log Loss Probability :  0.7227054293985515\n"
     ]
    }
   ],
   "source": [
    "param_list_1 = ['tenure', 'age', 'address', 'income', 'ed', 'employ', 'equip', 'wireless' , 'churn']\n",
    "get_log_loss_with_params(param_list_1)"
   ]
  },
  {
   "cell_type": "markdown",
   "metadata": {},
   "source": [
    "### Problem c. What happens to the log loss value if we add both \"callcard\" and \"wireless\" to the input features?"
   ]
  },
  {
   "cell_type": "code",
   "execution_count": 41,
   "metadata": {},
   "outputs": [
    {
     "data": {
      "image/png": "[encoded data removed]",
      "text/plain": [
       "<Figure size 360x144 with 1 Axes>"
      ]
     },
     "metadata": {
      "needs_background": "light"
     },
     "output_type": "display_data"
    },
    {
     "name": "stdout",
     "output_type": "stream",
     "text": [
      "Log Loss Probability :  0.7760557225417115\n"
     ]
    }
   ],
   "source": [
    "param_list_1 = ['tenure', 'age', 'address', 'income', 'ed', 'employ', 'equip', 'wireless','callcard', 'churn']\n",
    "get_log_loss_with_params(param_list_1)"
   ]
  },
  {
   "cell_type": "markdown",
   "metadata": {},
   "source": [
    "### Problem d. What happens to the log loss if we remove the feature 'equip' from the original set of input features?"
   ]
  },
  {
   "cell_type": "code",
   "execution_count": 44,
   "metadata": {},
   "outputs": [
    {
     "data": {
      "image/png": "[encoded data removed]",
      "text/plain": [
       "<Figure size 360x144 with 1 Axes>"
      ]
     },
     "metadata": {
      "needs_background": "light"
     },
     "output_type": "display_data"
    },
    {
     "name": "stdout",
     "output_type": "stream",
     "text": [
      "Log Loss Probability :  0.530242735024537\n"
     ]
    }
   ],
   "source": [
    "param_list_1 = ['tenure', 'age', 'address', 'income', 'ed', 'employ',  'churn']\n",
    "get_log_loss_with_params(param_list_1)"
   ]
  },
  {
   "cell_type": "markdown",
   "metadata": {},
   "source": [
    "### Problem e. What happens to the log loss if we remove the features 'income' and 'employ' from the original set of input features?"
   ]
  },
  {
   "cell_type": "code",
   "execution_count": 45,
   "metadata": {},
   "outputs": [
    {
     "data": {
      "image/png": "[encoded data removed]",
      "text/plain": [
       "<Figure size 360x144 with 1 Axes>"
      ]
     },
     "metadata": {
      "needs_background": "light"
     },
     "output_type": "display_data"
    },
    {
     "name": "stdout",
     "output_type": "stream",
     "text": [
      "Log Loss Probability :  0.6529317169884828\n"
     ]
    }
   ],
   "source": [
    "param_list_1 = ['tenure', 'age', 'address',  'ed', 'equip',  'churn']\n",
    "get_log_loss_with_params(param_list_1)"
   ]
  },
  {
   "cell_type": "code",
   "execution_count": null,
   "metadata": {},
   "outputs": [],
   "source": []
  },
  {
   "cell_type": "markdown",
   "metadata": {},
   "source": [
    "## Author\n",
    " \n",
    "Arpan Saini\n",
    " \n",
    " "
   ]
  },
  {
   "cell_type": "code",
   "execution_count": null,
   "metadata": {},
   "outputs": [],
   "source": []
  }
 ],
 "metadata": {
  "kernelspec": {
   "display_name": "Python 3 (ipykernel)",
   "language": "python",
   "name": "python3"
  },
  "language_info": {
   "codemirror_mode": {
    "name": "ipython",
    "version": 3
   },
   "file_extension": ".py",
   "mimetype": "text/x-python",
   "name": "python",
   "nbconvert_exporter": "python",
   "pygments_lexer": "ipython3",
   "version": "3.9.12"
  },
  "prev_pub_hash": "c9936a3a06cf4656bb99e264a74e23001002ebb55649cddd868b26d786127876"
 },
 "nbformat": 4,
 "nbformat_minor": 4
}
